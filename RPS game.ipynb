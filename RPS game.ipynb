{
 "cells": [
  {
   "cell_type": "code",
   "execution_count": null,
   "id": "633e58db",
   "metadata": {},
   "outputs": [
    {
     "name": "stdout",
     "output_type": "stream",
     "text": [
      "Enter a choice (rock, paper, scissors): paper\n",
      "\n",
      "You chose paper, computer chose rock.\n",
      "\n",
      "Paper covers rock! You win!\n",
      "Play again? (yes/no): yes\n",
      "Enter a choice (rock, paper, scissors): rock\n",
      "\n",
      "You chose rock, computer chose scissors.\n",
      "\n",
      "Rock smashes scissors! You win!\n"
     ]
    }
   ],
   "source": [
    "import random\n",
    "\n",
    "def game():\n",
    "    while True:\n",
    "        user = input(\"Enter a choice (rock, paper, scissors): \").lower()\n",
    "        while user not in [\"rock\", \"paper\", \"scissors\"]:\n",
    "            user = input(\"Invalid input. Please enter rock, paper, or scissors: \").lower()\n",
    "\n",
    "        possible_choices = [\"rock\", \"paper\", \"scissors\"]\n",
    "        computer = random.choice(possible_choices)\n",
    "        print(f\"\\nYou chose {user}, computer chose {computer}.\\n\")\n",
    "\n",
    "        if user == computer:\n",
    "            print(f\"Both players selected {user}. It's a tie!\")\n",
    "        elif user == \"rock\":\n",
    "            if computer == \"scissors\":\n",
    "                print(\"Rock smashes scissors! You win!\")\n",
    "            else:\n",
    "                print(\"Paper covers rock! You lose.\")\n",
    "        elif user == \"paper\":\n",
    "            if computer == \"rock\":\n",
    "                print(\"Paper covers rock! You win!\")\n",
    "            else:\n",
    "                print(\"Scissors cuts paper! You lose.\")\n",
    "        elif user == \"scissors\":\n",
    "            if computer == \"paper\":\n",
    "                print(\"Scissors cuts paper! You win!\")\n",
    "            else:\n",
    "                print(\"Rock smashes scissors! You lose.\")\n",
    "\n",
    "        play_again = input(\"Play again? (yes/no): \").lower()\n",
    "        while play_again not in [\"yes\", \"no\"]:\n",
    "            play_again = input(\"Invalid input. Please enter yes or no: \").lower()\n",
    "        if play_again != \"yes\":\n",
    "            break\n",
    "\n",
    "if __name__ == \"__main__\":\n",
    "    game()"
   ]
  },
  {
   "cell_type": "code",
   "execution_count": null,
   "id": "8b9d2e63",
   "metadata": {},
   "outputs": [],
   "source": []
  }
 ],
 "metadata": {
  "kernelspec": {
   "display_name": "Python 3 (ipykernel)",
   "language": "python",
   "name": "python3"
  },
  "language_info": {
   "codemirror_mode": {
    "name": "ipython",
    "version": 3
   },
   "file_extension": ".py",
   "mimetype": "text/x-python",
   "name": "python",
   "nbconvert_exporter": "python",
   "pygments_lexer": "ipython3",
   "version": "3.11.5"
  }
 },
 "nbformat": 4,
 "nbformat_minor": 5
}
